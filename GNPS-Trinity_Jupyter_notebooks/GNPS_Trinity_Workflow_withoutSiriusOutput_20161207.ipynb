{
 "cells": [
  {
   "cell_type": "markdown",
   "metadata": {},
   "source": [
    "#### GNPS TRINITY - Combine Optimus (feature detection), Sirius (in silico annotation), with GNPS (molecular networking)\n",
    "This workflow was conceived by Louis-Felix, Ivan Protsiuc, and Kai Durkhop. It has been implemented in Jupyter by Madeleine and Ricardo. \n",
    "Documentation for the GNPS Trinity workflow can be found here:\n",
    "https://bix-lab.ucsd.edu/display/Public/GNPS+Trinity+workflow"
   ]
  },
  {
   "cell_type": "markdown",
   "metadata": {},
   "source": [
    "load feature quantification matrix from optimus"
   ]
  },
  {
   "cell_type": "code",
   "execution_count": 6,
   "metadata": {
    "collapsed": false
   },
   "outputs": [],
   "source": [
    "opt <- read.csv(\"features_quantification_matrix.csv\", sep=\",\", dec=\".\",header = TRUE)"
   ]
  },
  {
   "cell_type": "markdown",
   "metadata": {},
   "source": [
    "transpose"
   ]
  },
  {
   "cell_type": "code",
   "execution_count": 7,
   "metadata": {
    "collapsed": true
   },
   "outputs": [],
   "source": [
    "opt_num <- t(opt[,-1])\n",
    "opt_num <- as.data.frame(opt_num)\n",
    "colnames(opt_num) <- opt[,which(colnames(opt)==\"Sample.name\")]\n",
    "\n",
    "opt_num <- cbind(rownames(opt_num),opt_num)\n",
    "colnames(opt_num)[1] <- \"row.ID\"\n",
    "\n",
    "opt_num <- cbind(c(1:nrow(opt_num)),opt_num)\n",
    "colnames(opt_num)[1] <- \"shared.name\"\n",
    "rownames(opt_num) <- c(1:nrow(opt_num))"
   ]
  },
  {
   "cell_type": "markdown",
   "metadata": {},
   "source": [
    "extract FeatureIDs from column names of feature quantification matrix from optimus"
   ]
  },
  {
   "cell_type": "code",
   "execution_count": 8,
   "metadata": {
    "collapsed": true
   },
   "outputs": [],
   "source": [
    "FeatureIDs <- gsub(\".*ID\",\"\",opt_num[,which(colnames(opt_num)==\"row.ID\")])\n",
    "FeatureIDs <- gsub(\"[.]\",\"\",FeatureIDs)\n",
    "\n",
    "opt_num <- cbind(FeatureIDs,opt_num)\n",
    "colnames(opt_num)[1] <- \"FeatureID\""
   ]
  },
  {
   "cell_type": "markdown",
   "metadata": {},
   "source": [
    "reorder columns, so that *shared.name* is in first row (facilitates reading file into cytoscape)"
   ]
  },
  {
   "cell_type": "code",
   "execution_count": 9,
   "metadata": {
    "collapsed": true
   },
   "outputs": [],
   "source": [
    "opt_num <- opt_num[,c(which(colnames(opt_num)==\"shared.name\"),which(colnames(opt_num)!=\"shared.name\"))]"
   ]
  },
  {
   "cell_type": "markdown",
   "metadata": {},
   "source": [
    "write output file"
   ]
  },
  {
   "cell_type": "code",
   "execution_count": 11,
   "metadata": {
    "collapsed": false
   },
   "outputs": [],
   "source": [
    "write.table(opt_num,file=\"Trinity_output_withoutSirius.csv\",row.names=F,sep=\";\",quote=FALSE)"
   ]
  }
 ],
 "metadata": {
  "kernelspec": {
   "display_name": "R",
   "language": "R",
   "name": "ir"
  },
  "language_info": {
   "codemirror_mode": "r",
   "file_extension": ".r",
   "mimetype": "text/x-r-source",
   "name": "R",
   "pygments_lexer": "r",
   "version": "3.3.1"
  }
 },
 "nbformat": 4,
 "nbformat_minor": 1
}
