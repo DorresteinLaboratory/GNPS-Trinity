{
 "cells": [
  {
   "cell_type": "markdown",
   "metadata": {},
   "source": [
    "#### GNPS TRINITY - Combine Optimus (feature detection), Sirius (in silico annotation), with GNPS (molecular networking)\n",
    "This workflow was conceived by Louis-Felix, Ivan Protsiuc, and Kai Durkhop. It has been implemented in Jupyter by Madeleine and Ricardo. \n",
    "Documentation for the GNPS Trinity workflow can be found here:\n",
    "https://bix-lab.ucsd.edu/display/Public/GNPS+Trinity+workflow"
   ]
  },
  {
   "cell_type": "markdown",
   "metadata": {},
   "source": [
    "load libraries"
   ]
  },
  {
   "cell_type": "code",
   "execution_count": 11,
   "metadata": {
    "collapsed": true
   },
   "outputs": [],
   "source": [
    "library(plyr)"
   ]
  },
  {
   "cell_type": "markdown",
   "metadata": {},
   "source": [
    "load feature quantification matrix from optimus"
   ]
  },
  {
   "cell_type": "code",
   "execution_count": 12,
   "metadata": {
    "collapsed": false
   },
   "outputs": [],
   "source": [
    "opt <- read.csv(\"features_quantification_matrix.csv\", sep=\",\", dec=\".\",header = TRUE)"
   ]
  },
  {
   "cell_type": "markdown",
   "metadata": {},
   "source": [
    "transpose"
   ]
  },
  {
   "cell_type": "code",
   "execution_count": 13,
   "metadata": {
    "collapsed": true
   },
   "outputs": [],
   "source": [
    "opt_num <- t(opt[,-1])\n",
    "opt_num <- as.data.frame(opt_num)\n",
    "colnames(opt_num) <- opt[,which(colnames(opt)==\"Sample.name\")]\n",
    "\n",
    "opt_num <- cbind(rownames(opt_num),opt_num)\n",
    "colnames(opt_num)[1] <- \"row.ID\"\n",
    "\n",
    "opt_num <- cbind(c(1:nrow(opt_num)),opt_num)\n",
    "colnames(opt_num)[1] <- \"shared.name\"\n",
    "rownames(opt_num) <- c(1:nrow(opt_num))"
   ]
  },
  {
   "cell_type": "markdown",
   "metadata": {},
   "source": [
    "import molecular formula file from Sirius"
   ]
  },
  {
   "cell_type": "code",
   "execution_count": 14,
   "metadata": {
    "collapsed": false
   },
   "outputs": [],
   "source": [
    "no_col <- max(count.fields(\"SiriusMF.csv\", sep = \"\\t\"))\n",
    "SirMF <- read.table(\"SiriusMF.csv\", sep=\"\\t\", header=FALSE,fill=TRUE,col.names=1:no_col) "
   ]
  },
  {
   "cell_type": "markdown",
   "metadata": {},
   "source": [
    "name columns "
   ]
  },
  {
   "cell_type": "code",
   "execution_count": 15,
   "metadata": {
    "collapsed": true
   },
   "outputs": [],
   "source": [
    "nMF <- (ncol(SirMF)-3)/2\n",
    "colnames(SirMF)[4:ncol(SirMF)] <- paste(rep(c(\"MF\",\"Score\"),nMF),rep(c(1:nMF),each=2),sep=\"\")\n",
    "colnames(SirMF)[1:3]<-c(\"FeatureID\",\"mz\",\"adduct\")"
   ]
  },
  {
   "cell_type": "markdown",
   "metadata": {},
   "source": [
    "add smile structures etc. from seperate files"
   ]
  },
  {
   "cell_type": "code",
   "execution_count": 16,
   "metadata": {
    "collapsed": false
   },
   "outputs": [],
   "source": [
    "filenames <- list.files(\"CSIFingerID\")\n",
    "filenames <- gsub(\".csv\", \"\", filenames)\n",
    "smiles <- list()\n",
    "  for (i in 1:nrow(SirMF)){\n",
    "    if(as.character(SirMF$FeatureID[i]) %in% filenames){\n",
    "    smiles[[i]] <- read.table(paste(\"CSIFingerID/\",SirMF$FeatureID[i],\".csv\",sep=\"\"), sep=\"\\t\", header=TRUE,fill=TRUE,quote=\"\") \n",
    "    names(smiles)[i] <- SirMF$FeatureID[i]\n",
    "    }\n",
    "  }"
   ]
  },
  {
   "cell_type": "markdown",
   "metadata": {},
   "source": [
    "add smiles to sirius molecular formula table"
   ]
  },
  {
   "cell_type": "code",
   "execution_count": 17,
   "metadata": {
    "collapsed": false
   },
   "outputs": [],
   "source": [
    "smiles <- smiles[vapply(smiles, Negate(is.null), NA)]\n",
    "\n",
    "colap <- list()\n",
    "for (i in 1:length(smiles)){\n",
    "  p <- c()\n",
    "  for (j in 1:ncol(smiles[[i]])){\n",
    "    p <- c(p,paste(smiles[[i]][,j], collapse=\",\"))\n",
    "  }\n",
    "  colap[[i]] <- p\n",
    "}\n",
    "\n",
    "df <- data.frame(matrix(unlist(colap), nrow=length(colap), byrow=T))\n",
    "rownames(df) <- names(smiles)\n",
    "colnames(df) <- colnames(smiles[[1]])\n",
    "colnames(df)[which(colnames(df)==\"name\")] <- \"CompoundName\"\n",
    "\n",
    "df <- cbind(rownames(df),df)\n",
    "colnames(df)[1] <- \"FeatureID\"\n",
    "\n",
    "SirComb <- merge(SirMF,df,by=\"FeatureID\",all=T)"
   ]
  },
  {
   "cell_type": "markdown",
   "metadata": {},
   "source": [
    "combine data from Sirius with Optimus output"
   ]
  },
  {
   "cell_type": "code",
   "execution_count": 18,
   "metadata": {
    "collapsed": false
   },
   "outputs": [],
   "source": [
    "FeatureIDs <- gsub(\".*ID\",\"\",opt_num[,which(colnames(opt_num)==\"row.ID\")])\n",
    "FeatureIDs <- gsub(\"[.]\",\"\",FeatureIDs)\n",
    "\n",
    "opt_num <- cbind(FeatureIDs,opt_num)\n",
    "colnames(opt_num)[1] <- \"FeatureID\"\n",
    "\n",
    "optMF <- join(opt_num,SirComb,by=\"FeatureID\")\n",
    "optMF <- optMF[,c(which(colnames(optMF)==\"shared.name\"),which(colnames(optMF)!=\"shared.name\"))]"
   ]
  },
  {
   "cell_type": "markdown",
   "metadata": {},
   "source": [
    "write output file"
   ]
  },
  {
   "cell_type": "code",
   "execution_count": 19,
   "metadata": {
    "collapsed": true
   },
   "outputs": [],
   "source": [
    "write.table(optMF,file=\"Trinity_output.csv\",row.names=F,sep=\";\",quote=FALSE)"
   ]
  },
  {
   "cell_type": "code",
   "execution_count": null,
   "metadata": {
    "collapsed": true
   },
   "outputs": [],
   "source": []
  }
 ],
 "metadata": {
  "kernelspec": {
   "display_name": "R",
   "language": "R",
   "name": "ir"
  },
  "language_info": {
   "codemirror_mode": "r",
   "file_extension": ".r",
   "mimetype": "text/x-r-source",
   "name": "R",
   "pygments_lexer": "r",
   "version": "3.3.1"
  }
 },
 "nbformat": 4,
 "nbformat_minor": 1
}
