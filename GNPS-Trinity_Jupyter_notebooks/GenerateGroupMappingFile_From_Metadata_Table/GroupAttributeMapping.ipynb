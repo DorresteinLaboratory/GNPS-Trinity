{
 "cells": [
  {
   "cell_type": "markdown",
   "metadata": {},
   "source": [
    "## Convert Metadata Table to Group Mapping File and Attribute Mapping File"
   ]
  },
  {
   "cell_type": "markdown",
   "metadata": {},
   "source": [
    "load library"
   ]
  },
  {
   "cell_type": "code",
   "execution_count": 13,
   "metadata": {
    "collapsed": true
   },
   "outputs": [],
   "source": [
    "library(plyr)"
   ]
  },
  {
   "cell_type": "markdown",
   "metadata": {},
   "source": [
    "* create your Metadata Table in Excel and export as *.csv*. \n",
    "* put your *.csv* file in the same folder as the script in jupyter and specify its name here"
   ]
  },
  {
   "cell_type": "code",
   "execution_count": 14,
   "metadata": {
    "collapsed": false
   },
   "outputs": [],
   "source": [
    "MetaData <- read.csv(\"metadata_table.csv\", sep=\";\", dec=\".\",header = TRUE) "
   ]
  },
  {
   "cell_type": "markdown",
   "metadata": {},
   "source": [
    "convert file"
   ]
  },
  {
   "cell_type": "code",
   "execution_count": 15,
   "metadata": {
    "collapsed": true
   },
   "outputs": [],
   "source": [
    "ngroups <- ncol(MetaData)-1\n",
    "l <- list()\n",
    "\n",
    "for (i in 1:ngroups){\n",
    "  l[[i]] <- table(MetaData[,c(1,i+1)]) \n",
    "  l[[i]] <- as.data.frame.matrix(l[[i]])\n",
    "  l[[i]]$SampleNames <- rownames(l[[i]]) \n",
    "}\n",
    "\n",
    "MetaTable <- join(l[[1]],l[[2]],by=\"SampleNames\")\n",
    "\n",
    "if (ngroups != 2){\n",
    "  for (i in 3:length(l)){\n",
    "    MetaTable <- join(MetaTable,l[[i]],by=\"SampleNames\")\n",
    "  }\n",
    "}\n",
    "\n",
    "GMtab <- data.matrix(MetaTable[,-which(colnames(MetaTable)==\"SampleNames\")])\n",
    "rownames(GMtab) <- MetaTable$SampleName\n",
    "\n",
    "vec <- c()\n",
    "for (i in 1:ncol(GMtab)){\n",
    "  vec <- c(vec,paste(\"GROUP_\",colnames(GMtab)[i],\"=\",rownames(GMtab)[which(GMtab[,i]!=0)],sep=\"\"))\n",
    "}\n",
    "\n",
    "vec <- gsub(\"\\\\s\",\"\", vec) #remove spaces\n",
    "vec <- gsub(\"\\\\(|\\\\)\", \":\", vec) # \"()\" brackets are not recognized, replace them by \":\"\n",
    "\n",
    "groups <- gsub(\"=.*\",\"\",vec)\n",
    "groups <- gsub(\"\\\\s\",\"\", groups) #remove spaces\n",
    "groups <- unique(groups)\n",
    "groups <- gsub(\"\\\\(|\\\\)\", \":\", groups)\n",
    "\n",
    "mat <- matrix(0,length(groups),100000)\n",
    "\n",
    "for (i in 1:length(groups)){\n",
    "  x <- paste(groups[i],\"=\",sep=\"\")\n",
    "  pos <- c()\n",
    "  for (j in 1:length(vec)){\n",
    "    if (length(grep(x,vec[j])==1)==1){\n",
    "      pos <- c(pos,j)\n",
    "      mat[i,1:length(pos)] <- gsub(\".*=\",\"\",vec[pos])\n",
    "    } \n",
    "  }\n",
    "}\n",
    "\n",
    "rownames(mat) <- groups\n",
    "\n",
    "col <- c()\n",
    "for (i in 1:nrow(mat)){\n",
    "  len <- length(which(mat[i,] != \"0\"))\n",
    "  col <- c(col,paste(mat[i,1:len],collapse=\";\"))\n",
    "}\n",
    "\n",
    "v <- c()\n",
    "for (i in 1:length(col)){\n",
    "  v <- c(v,paste(groups[i],\"=\",col[i],sep=\"\"))\n",
    "}"
   ]
  },
  {
   "cell_type": "markdown",
   "metadata": {},
   "source": [
    "write Group Mapping file (specify name)"
   ]
  },
  {
   "cell_type": "code",
   "execution_count": 10,
   "metadata": {
    "collapsed": true
   },
   "outputs": [],
   "source": [
    "write.table(v,file=\"GroupMapping.txt\",row.names=F,col.names=F,quote=F)"
   ]
  },
  {
   "cell_type": "markdown",
   "metadata": {},
   "source": [
    "create Attribute Mapping File"
   ]
  },
  {
   "cell_type": "code",
   "execution_count": 11,
   "metadata": {
    "collapsed": false
   },
   "outputs": [],
   "source": [
    "av <- c()\n",
    "for (i in 2:ncol(MetaData)){\n",
    "  f <- unique(MetaData[,i])\n",
    "  f <- gsub(\"\\\\s\",\"\", f) #remove spaces\n",
    "  f <- gsub(\"\\\\(|\\\\)\", \":\", f) #remove brackets\n",
    "  q <- colnames(MetaData)[i]\n",
    "  q <- gsub(\"\\\\s\",\"\", q)\n",
    "  q <- gsub(\"\\\\(|\\\\)\", \":\", q) #remove brackets\n",
    "  av <- c(av,paste(colnames(MetaData)[i],\"=\",paste(f,collapse=\";\"),sep=\"\"))\n",
    "}"
   ]
  },
  {
   "cell_type": "markdown",
   "metadata": {
    "collapsed": true
   },
   "source": [
    "write Attribute Mapping file (specify name)"
   ]
  },
  {
   "cell_type": "code",
   "execution_count": 12,
   "metadata": {
    "collapsed": true
   },
   "outputs": [],
   "source": [
    "write.table(av,file=\"AttributeMapping.txt\",row.names=F,col.names=F,quote=F)\n"
   ]
  },
  {
   "cell_type": "code",
   "execution_count": null,
   "metadata": {
    "collapsed": true
   },
   "outputs": [],
   "source": []
  }
 ],
 "metadata": {
  "kernelspec": {
   "display_name": "R",
   "language": "R",
   "name": "ir"
  },
  "language_info": {
   "codemirror_mode": "r",
   "file_extension": ".r",
   "mimetype": "text/x-r-source",
   "name": "R",
   "pygments_lexer": "r",
   "version": "3.3.1"
  }
 },
 "nbformat": 4,
 "nbformat_minor": 1
}
